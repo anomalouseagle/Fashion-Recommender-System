{
 "cells": [
  {
   "cell_type": "code",
   "execution_count": 20,
   "id": "7a88b77a-241d-4e87-8717-8a176d89cf6f",
   "metadata": {},
   "outputs": [
    {
     "name": "stdout",
     "output_type": "stream",
     "text": [
      "Requirement already satisfied: tensorflow in c:\\users\\bhawn\\anaconda3\\lib\\site-packages (2.17.0)\n",
      "Requirement already satisfied: tensorflow-intel==2.17.0 in c:\\users\\bhawn\\anaconda3\\lib\\site-packages (from tensorflow) (2.17.0)\n",
      "Requirement already satisfied: absl-py>=1.0.0 in c:\\users\\bhawn\\anaconda3\\lib\\site-packages (from tensorflow-intel==2.17.0->tensorflow) (2.1.0)\n",
      "Requirement already satisfied: astunparse>=1.6.0 in c:\\users\\bhawn\\anaconda3\\lib\\site-packages (from tensorflow-intel==2.17.0->tensorflow) (1.6.3)\n",
      "Requirement already satisfied: flatbuffers>=24.3.25 in c:\\users\\bhawn\\anaconda3\\lib\\site-packages (from tensorflow-intel==2.17.0->tensorflow) (24.3.25)\n",
      "Requirement already satisfied: gast!=0.5.0,!=0.5.1,!=0.5.2,>=0.2.1 in c:\\users\\bhawn\\anaconda3\\lib\\site-packages (from tensorflow-intel==2.17.0->tensorflow) (0.6.0)\n",
      "Requirement already satisfied: google-pasta>=0.1.1 in c:\\users\\bhawn\\anaconda3\\lib\\site-packages (from tensorflow-intel==2.17.0->tensorflow) (0.2.0)\n",
      "Requirement already satisfied: h5py>=3.10.0 in c:\\users\\bhawn\\anaconda3\\lib\\site-packages (from tensorflow-intel==2.17.0->tensorflow) (3.11.0)\n",
      "Requirement already satisfied: libclang>=13.0.0 in c:\\users\\bhawn\\anaconda3\\lib\\site-packages (from tensorflow-intel==2.17.0->tensorflow) (18.1.1)\n",
      "Requirement already satisfied: ml-dtypes<0.5.0,>=0.3.1 in c:\\users\\bhawn\\anaconda3\\lib\\site-packages (from tensorflow-intel==2.17.0->tensorflow) (0.4.0)\n",
      "Requirement already satisfied: opt-einsum>=2.3.2 in c:\\users\\bhawn\\anaconda3\\lib\\site-packages (from tensorflow-intel==2.17.0->tensorflow) (3.3.0)\n",
      "Requirement already satisfied: packaging in c:\\users\\bhawn\\anaconda3\\lib\\site-packages (from tensorflow-intel==2.17.0->tensorflow) (23.2)\n",
      "Requirement already satisfied: protobuf!=4.21.0,!=4.21.1,!=4.21.2,!=4.21.3,!=4.21.4,!=4.21.5,<5.0.0dev,>=3.20.3 in c:\\users\\bhawn\\anaconda3\\lib\\site-packages (from tensorflow-intel==2.17.0->tensorflow) (3.20.3)\n",
      "Requirement already satisfied: requests<3,>=2.21.0 in c:\\users\\bhawn\\anaconda3\\lib\\site-packages (from tensorflow-intel==2.17.0->tensorflow) (2.32.2)\n",
      "Requirement already satisfied: setuptools in c:\\users\\bhawn\\anaconda3\\lib\\site-packages (from tensorflow-intel==2.17.0->tensorflow) (69.5.1)\n",
      "Requirement already satisfied: six>=1.12.0 in c:\\users\\bhawn\\anaconda3\\lib\\site-packages (from tensorflow-intel==2.17.0->tensorflow) (1.16.0)\n",
      "Requirement already satisfied: termcolor>=1.1.0 in c:\\users\\bhawn\\anaconda3\\lib\\site-packages (from tensorflow-intel==2.17.0->tensorflow) (2.4.0)\n",
      "Requirement already satisfied: typing-extensions>=3.6.6 in c:\\users\\bhawn\\anaconda3\\lib\\site-packages (from tensorflow-intel==2.17.0->tensorflow) (4.11.0)\n",
      "Requirement already satisfied: wrapt>=1.11.0 in c:\\users\\bhawn\\anaconda3\\lib\\site-packages (from tensorflow-intel==2.17.0->tensorflow) (1.14.1)\n",
      "Requirement already satisfied: grpcio<2.0,>=1.24.3 in c:\\users\\bhawn\\anaconda3\\lib\\site-packages (from tensorflow-intel==2.17.0->tensorflow) (1.64.1)\n",
      "Requirement already satisfied: tensorboard<2.18,>=2.17 in c:\\users\\bhawn\\anaconda3\\lib\\site-packages (from tensorflow-intel==2.17.0->tensorflow) (2.17.0)\n",
      "Requirement already satisfied: keras>=3.2.0 in c:\\users\\bhawn\\anaconda3\\lib\\site-packages (from tensorflow-intel==2.17.0->tensorflow) (3.4.1)\n",
      "Requirement already satisfied: numpy<2.0.0,>=1.26.0 in c:\\users\\bhawn\\anaconda3\\lib\\site-packages (from tensorflow-intel==2.17.0->tensorflow) (1.26.4)\n",
      "Requirement already satisfied: wheel<1.0,>=0.23.0 in c:\\users\\bhawn\\anaconda3\\lib\\site-packages (from astunparse>=1.6.0->tensorflow-intel==2.17.0->tensorflow) (0.43.0)\n",
      "Requirement already satisfied: rich in c:\\users\\bhawn\\anaconda3\\lib\\site-packages (from keras>=3.2.0->tensorflow-intel==2.17.0->tensorflow) (13.3.5)\n",
      "Requirement already satisfied: namex in c:\\users\\bhawn\\anaconda3\\lib\\site-packages (from keras>=3.2.0->tensorflow-intel==2.17.0->tensorflow) (0.0.8)\n",
      "Requirement already satisfied: optree in c:\\users\\bhawn\\anaconda3\\lib\\site-packages (from keras>=3.2.0->tensorflow-intel==2.17.0->tensorflow) (0.12.1)\n",
      "Requirement already satisfied: charset-normalizer<4,>=2 in c:\\users\\bhawn\\anaconda3\\lib\\site-packages (from requests<3,>=2.21.0->tensorflow-intel==2.17.0->tensorflow) (2.0.4)\n",
      "Requirement already satisfied: idna<4,>=2.5 in c:\\users\\bhawn\\anaconda3\\lib\\site-packages (from requests<3,>=2.21.0->tensorflow-intel==2.17.0->tensorflow) (3.7)\n",
      "Requirement already satisfied: urllib3<3,>=1.21.1 in c:\\users\\bhawn\\anaconda3\\lib\\site-packages (from requests<3,>=2.21.0->tensorflow-intel==2.17.0->tensorflow) (2.2.2)\n",
      "Requirement already satisfied: certifi>=2017.4.17 in c:\\users\\bhawn\\anaconda3\\lib\\site-packages (from requests<3,>=2.21.0->tensorflow-intel==2.17.0->tensorflow) (2024.6.2)\n",
      "Requirement already satisfied: markdown>=2.6.8 in c:\\users\\bhawn\\anaconda3\\lib\\site-packages (from tensorboard<2.18,>=2.17->tensorflow-intel==2.17.0->tensorflow) (3.4.1)\n",
      "Requirement already satisfied: tensorboard-data-server<0.8.0,>=0.7.0 in c:\\users\\bhawn\\anaconda3\\lib\\site-packages (from tensorboard<2.18,>=2.17->tensorflow-intel==2.17.0->tensorflow) (0.7.2)\n",
      "Requirement already satisfied: werkzeug>=1.0.1 in c:\\users\\bhawn\\anaconda3\\lib\\site-packages (from tensorboard<2.18,>=2.17->tensorflow-intel==2.17.0->tensorflow) (3.0.3)\n",
      "Requirement already satisfied: MarkupSafe>=2.1.1 in c:\\users\\bhawn\\anaconda3\\lib\\site-packages (from werkzeug>=1.0.1->tensorboard<2.18,>=2.17->tensorflow-intel==2.17.0->tensorflow) (2.1.3)\n",
      "Requirement already satisfied: markdown-it-py<3.0.0,>=2.2.0 in c:\\users\\bhawn\\anaconda3\\lib\\site-packages (from rich->keras>=3.2.0->tensorflow-intel==2.17.0->tensorflow) (2.2.0)\n",
      "Requirement already satisfied: pygments<3.0.0,>=2.13.0 in c:\\users\\bhawn\\anaconda3\\lib\\site-packages (from rich->keras>=3.2.0->tensorflow-intel==2.17.0->tensorflow) (2.15.1)\n",
      "Requirement already satisfied: mdurl~=0.1 in c:\\users\\bhawn\\anaconda3\\lib\\site-packages (from markdown-it-py<3.0.0,>=2.2.0->rich->keras>=3.2.0->tensorflow-intel==2.17.0->tensorflow) (0.1.0)\n"
     ]
    },
    {
     "ename": "ImportError",
     "evalue": "cannot import name 'GlobalMaxPooling2d' from 'tensorflow.keras.layers' (C:\\Users\\bhawn\\anaconda3\\Lib\\site-packages\\keras\\_tf_keras\\keras\\layers\\__init__.py)",
     "output_type": "error",
     "traceback": [
      "\u001b[1;31m---------------------------------------------------------------------------\u001b[0m",
      "\u001b[1;31mImportError\u001b[0m                               Traceback (most recent call last)",
      "Cell \u001b[1;32mIn[20], line 4\u001b[0m\n\u001b[0;32m      2\u001b[0m \u001b[38;5;28;01mimport\u001b[39;00m \u001b[38;5;21;01mtensorflow\u001b[39;00m \u001b[38;5;28;01mas\u001b[39;00m \u001b[38;5;21;01mtf\u001b[39;00m\n\u001b[0;32m      3\u001b[0m \u001b[38;5;28;01mfrom\u001b[39;00m \u001b[38;5;21;01mtensorflow\u001b[39;00m\u001b[38;5;21;01m.\u001b[39;00m\u001b[38;5;21;01mkeras\u001b[39;00m\u001b[38;5;21;01m.\u001b[39;00m\u001b[38;5;21;01mpreprocessing\u001b[39;00m \u001b[38;5;28;01mimport\u001b[39;00m image \n\u001b[1;32m----> 4\u001b[0m \u001b[38;5;28;01mfrom\u001b[39;00m \u001b[38;5;21;01mtensorflow\u001b[39;00m\u001b[38;5;21;01m.\u001b[39;00m\u001b[38;5;21;01mkeras\u001b[39;00m\u001b[38;5;21;01m.\u001b[39;00m\u001b[38;5;21;01mlayers\u001b[39;00m \u001b[38;5;28;01mimport\u001b[39;00m GlobalMaxPooling2d\n",
      "\u001b[1;31mImportError\u001b[0m: cannot import name 'GlobalMaxPooling2d' from 'tensorflow.keras.layers' (C:\\Users\\bhawn\\anaconda3\\Lib\\site-packages\\keras\\_tf_keras\\keras\\layers\\__init__.py)"
     ]
    }
   ],
   "source": [
    "!pip install tensorflow\n",
    "import tensorflow as tf\n",
    "from tensorflow.keras.preprocessing import image \n",
    "from tensorflow.keras.layers import GlobalMaxPooling2d"
   ]
  },
  {
   "cell_type": "code",
   "execution_count": 21,
   "id": "d62768b7-bd40-4d38-8366-999bb928f0ed",
   "metadata": {},
   "outputs": [],
   "source": [
    "img = image.load_img( \"WhatsApp Image 2024-07-24 at 14.03.10.jpeg\", target_size=(224,224))"
   ]
  },
  {
   "cell_type": "code",
   "execution_count": 22,
   "id": "3b3b3fa1-9794-4bb9-9342-f491a8e1b92c",
   "metadata": {},
   "outputs": [],
   "source": [
    "img_array= image.img_to_array(img)"
   ]
  },
  {
   "cell_type": "code",
   "execution_count": 23,
   "id": "13194df2-3789-4903-82fe-c63986e60db6",
   "metadata": {},
   "outputs": [
    {
     "data": {
      "text/plain": [
       "(224, 224, 3)"
      ]
     },
     "execution_count": 23,
     "metadata": {},
     "output_type": "execute_result"
    }
   ],
   "source": [
    "img_array.shape"
   ]
  },
  {
   "cell_type": "code",
   "execution_count": 24,
   "id": "bc1df8ee-4587-4880-832c-f18c3223207b",
   "metadata": {},
   "outputs": [
    {
     "name": "stdout",
     "output_type": "stream",
     "text": [
      "(1, 224, 224, 3)\n"
     ]
    }
   ],
   "source": [
    "import numpy as np\n",
    "expanded_img_array = np.expand_dims(img_array, axis=0)\n",
    "print(expanded_img_array.shape)"
   ]
  },
  {
   "cell_type": "code",
   "execution_count": 25,
   "id": "8f527767-fba1-4a22-98d9-703233015f87",
   "metadata": {},
   "outputs": [
    {
     "data": {
      "text/plain": [
       "array([[[[204., 201., 196.],\n",
       "         [204., 201., 196.],\n",
       "         [204., 201., 196.],\n",
       "         ...,\n",
       "         [206., 203., 196.],\n",
       "         [206., 203., 196.],\n",
       "         [206., 203., 196.]],\n",
       "\n",
       "        [[204., 201., 196.],\n",
       "         [204., 201., 196.],\n",
       "         [204., 201., 196.],\n",
       "         ...,\n",
       "         [206., 203., 196.],\n",
       "         [206., 203., 196.],\n",
       "         [206., 203., 196.]],\n",
       "\n",
       "        [[204., 201., 196.],\n",
       "         [204., 201., 196.],\n",
       "         [204., 201., 196.],\n",
       "         ...,\n",
       "         [206., 203., 196.],\n",
       "         [206., 203., 196.],\n",
       "         [206., 203., 196.]],\n",
       "\n",
       "        ...,\n",
       "\n",
       "        [[203., 197., 197.],\n",
       "         [203., 197., 197.],\n",
       "         [203., 197., 197.],\n",
       "         ...,\n",
       "         [203., 197., 185.],\n",
       "         [203., 197., 185.],\n",
       "         [203., 197., 185.]],\n",
       "\n",
       "        [[203., 197., 197.],\n",
       "         [203., 197., 197.],\n",
       "         [203., 197., 197.],\n",
       "         ...,\n",
       "         [203., 197., 185.],\n",
       "         [203., 197., 185.],\n",
       "         [203., 197., 185.]],\n",
       "\n",
       "        [[203., 197., 197.],\n",
       "         [203., 197., 197.],\n",
       "         [203., 197., 197.],\n",
       "         ...,\n",
       "         [203., 197., 185.],\n",
       "         [203., 197., 185.],\n",
       "         [203., 197., 185.]]]], dtype=float32)"
      ]
     },
     "execution_count": 25,
     "metadata": {},
     "output_type": "execute_result"
    }
   ],
   "source": [
    "expanded_img_array"
   ]
  },
  {
   "cell_type": "code",
   "execution_count": 26,
   "id": "cb32df65-02a9-4020-8146-475e3596093a",
   "metadata": {},
   "outputs": [],
   "source": [
    "from tensorflow.keras.applications.resnet50 import ResNet50, preprocess_input"
   ]
  },
  {
   "cell_type": "code",
   "execution_count": 27,
   "id": "d2f3139f-de57-4f2a-9cd3-6cf436125707",
   "metadata": {},
   "outputs": [],
   "source": [
    "from tensorflow.keras.layers import GlobalMaxPooling2D"
   ]
  },
  {
   "cell_type": "code",
   "execution_count": 28,
   "id": "cbf20e1d-3fbb-4170-bb8d-8cc6600bb40c",
   "metadata": {},
   "outputs": [],
   "source": [
    "import tensorflow \n",
    "model = ResNet50(weights = 'imagenet', include_top = False, input_shape= (224,224,3))\n",
    "model.trainable = False \n",
    "\n",
    "model = tensorflow.keras.Sequential([\n",
    "    model, \n",
    "    GlobalMaxPooling2D()\n",
    "])"
   ]
  },
  {
   "cell_type": "code",
   "execution_count": 13,
   "id": "d6ec05a1-4bcb-41f8-af61-ded08842b370",
   "metadata": {},
   "outputs": [
    {
     "name": "stdout",
     "output_type": "stream",
     "text": [
      "(1, 224, 224, 3)\n"
     ]
    },
    {
     "data": {
      "text/plain": [
       "array([[[[92.061, 84.221, 80.32 ],\n",
       "         [92.061, 84.221, 80.32 ],\n",
       "         [92.061, 84.221, 80.32 ],\n",
       "         ...,\n",
       "         [92.061, 86.221, 82.32 ],\n",
       "         [92.061, 86.221, 82.32 ],\n",
       "         [92.061, 86.221, 82.32 ]],\n",
       "\n",
       "        [[92.061, 84.221, 80.32 ],\n",
       "         [92.061, 84.221, 80.32 ],\n",
       "         [92.061, 84.221, 80.32 ],\n",
       "         ...,\n",
       "         [92.061, 86.221, 82.32 ],\n",
       "         [92.061, 86.221, 82.32 ],\n",
       "         [92.061, 86.221, 82.32 ]],\n",
       "\n",
       "        [[92.061, 84.221, 80.32 ],\n",
       "         [92.061, 84.221, 80.32 ],\n",
       "         [92.061, 84.221, 80.32 ],\n",
       "         ...,\n",
       "         [92.061, 86.221, 82.32 ],\n",
       "         [92.061, 86.221, 82.32 ],\n",
       "         [92.061, 86.221, 82.32 ]],\n",
       "\n",
       "        ...,\n",
       "\n",
       "        [[93.061, 80.221, 79.32 ],\n",
       "         [93.061, 80.221, 79.32 ],\n",
       "         [93.061, 80.221, 79.32 ],\n",
       "         ...,\n",
       "         [81.061, 80.221, 79.32 ],\n",
       "         [81.061, 80.221, 79.32 ],\n",
       "         [81.061, 80.221, 79.32 ]],\n",
       "\n",
       "        [[93.061, 80.221, 79.32 ],\n",
       "         [93.061, 80.221, 79.32 ],\n",
       "         [93.061, 80.221, 79.32 ],\n",
       "         ...,\n",
       "         [81.061, 80.221, 79.32 ],\n",
       "         [81.061, 80.221, 79.32 ],\n",
       "         [81.061, 80.221, 79.32 ]],\n",
       "\n",
       "        [[93.061, 80.221, 79.32 ],\n",
       "         [93.061, 80.221, 79.32 ],\n",
       "         [93.061, 80.221, 79.32 ],\n",
       "         ...,\n",
       "         [81.061, 80.221, 79.32 ],\n",
       "         [81.061, 80.221, 79.32 ],\n",
       "         [81.061, 80.221, 79.32 ]]]], dtype=float32)"
      ]
     },
     "execution_count": 13,
     "metadata": {},
     "output_type": "execute_result"
    }
   ],
   "source": [
    "preprocessed_img = preprocess_input(expanded_img_array)\n",
    "print(preprocessed_img.shape)\n",
    "preprocessed_img"
   ]
  },
  {
   "cell_type": "code",
   "execution_count": 29,
   "id": "3e0a64bb-702e-45e3-abaf-af23d28faa58",
   "metadata": {},
   "outputs": [
    {
     "name": "stdout",
     "output_type": "stream",
     "text": [
      "\u001b[1m1/1\u001b[0m \u001b[32m━━━━━━━━━━━━━━━━━━━━\u001b[0m\u001b[37m\u001b[0m \u001b[1m7s\u001b[0m 7s/step\n"
     ]
    },
    {
     "data": {
      "text/plain": [
       "array([[ 2.921896  , 12.144642  ,  0.44117117, ...,  6.9471617 ,\n",
       "         9.127176  , 11.131536  ]], dtype=float32)"
      ]
     },
     "execution_count": 29,
     "metadata": {},
     "output_type": "execute_result"
    }
   ],
   "source": [
    "model.predict(preprocessed_img)"
   ]
  },
  {
   "cell_type": "code",
   "execution_count": 30,
   "id": "26389531-f792-4606-8f2e-55073746a352",
   "metadata": {},
   "outputs": [
    {
     "name": "stdout",
     "output_type": "stream",
     "text": [
      "\u001b[1m1/1\u001b[0m \u001b[32m━━━━━━━━━━━━━━━━━━━━\u001b[0m\u001b[37m\u001b[0m \u001b[1m0s\u001b[0m 200ms/step\n"
     ]
    },
    {
     "data": {
      "text/plain": [
       "(1, 2048)"
      ]
     },
     "execution_count": 30,
     "metadata": {},
     "output_type": "execute_result"
    }
   ],
   "source": [
    "model.predict(preprocessed_img).shape"
   ]
  },
  {
   "cell_type": "code",
   "execution_count": 31,
   "id": "5beec548-5cef-4c56-9c93-da5ba163310d",
   "metadata": {},
   "outputs": [
    {
     "name": "stdout",
     "output_type": "stream",
     "text": [
      "\u001b[1m1/1\u001b[0m \u001b[32m━━━━━━━━━━━━━━━━━━━━\u001b[0m\u001b[37m\u001b[0m \u001b[1m0s\u001b[0m 247ms/step\n"
     ]
    },
    {
     "data": {
      "text/plain": [
       "(2048,)"
      ]
     },
     "execution_count": 31,
     "metadata": {},
     "output_type": "execute_result"
    }
   ],
   "source": [
    "model.predict(preprocessed_img).flatten().shape"
   ]
  },
  {
   "cell_type": "code",
   "execution_count": 32,
   "id": "fe5f816a-9485-4768-a9dd-fefb81b91ffe",
   "metadata": {},
   "outputs": [
    {
     "name": "stdout",
     "output_type": "stream",
     "text": [
      "\u001b[1m1/1\u001b[0m \u001b[32m━━━━━━━━━━━━━━━━━━━━\u001b[0m\u001b[37m\u001b[0m \u001b[1m0s\u001b[0m 182ms/step\n",
      "\u001b[1m1/1\u001b[0m \u001b[32m━━━━━━━━━━━━━━━━━━━━\u001b[0m\u001b[37m\u001b[0m \u001b[1m0s\u001b[0m 162ms/step\n"
     ]
    },
    {
     "data": {
      "text/plain": [
       "array([0.01055936, 0.04388919, 0.00159434, ..., 0.02510616, 0.03298445,\n",
       "       0.04022795], dtype=float32)"
      ]
     },
     "execution_count": 32,
     "metadata": {},
     "output_type": "execute_result"
    }
   ],
   "source": [
    "\n",
    "from numpy.linalg import norm\n",
    "model.predict(preprocessed_img).flatten()/norm(model.predict(preprocessed_img).flatten())"
   ]
  },
  {
   "cell_type": "code",
   "execution_count": 33,
   "id": "fbb53feb-9150-4fe0-88b3-37ab0fa66641",
   "metadata": {},
   "outputs": [
    {
     "name": "stdout",
     "output_type": "stream",
     "text": [
      "\u001b[1m1/1\u001b[0m \u001b[32m━━━━━━━━━━━━━━━━━━━━\u001b[0m\u001b[37m\u001b[0m \u001b[1m0s\u001b[0m 200ms/step\n"
     ]
    },
    {
     "data": {
      "text/plain": [
       "276.71146"
      ]
     },
     "execution_count": 33,
     "metadata": {},
     "output_type": "execute_result"
    }
   ],
   "source": [
    "from numpy.linalg import norm\n",
    "norm(model.predict(preprocessed_img).flatten())"
   ]
  },
  {
   "cell_type": "code",
   "execution_count": 35,
   "id": "68d63398-835e-4341-8242-e5cc9f10e3a8",
   "metadata": {},
   "outputs": [
    {
     "name": "stdout",
     "output_type": "stream",
     "text": [
      "\u001b[1m1/1\u001b[0m \u001b[32m━━━━━━━━━━━━━━━━━━━━\u001b[0m\u001b[37m\u001b[0m \u001b[1m0s\u001b[0m 199ms/step\n",
      "\u001b[1m1/1\u001b[0m \u001b[32m━━━━━━━━━━━━━━━━━━━━\u001b[0m\u001b[37m\u001b[0m \u001b[1m0s\u001b[0m 191ms/step\n"
     ]
    },
    {
     "data": {
      "text/plain": [
       "276.71146"
      ]
     },
     "execution_count": 35,
     "metadata": {},
     "output_type": "execute_result"
    }
   ],
   "source": [
    "np.sqrt(np.dot(model.predict(preprocessed_img).flatten(),model.predict(preprocessed_img).flatten()))"
   ]
  },
  {
   "cell_type": "code",
   "execution_count": null,
   "id": "617d719a-535c-4d69-ba5d-e141b053e074",
   "metadata": {},
   "outputs": [],
   "source": []
  },
  {
   "cell_type": "code",
   "execution_count": null,
   "id": "013f85ca-682d-4341-9032-6fabdc0b079f",
   "metadata": {},
   "outputs": [],
   "source": []
  },
  {
   "cell_type": "code",
   "execution_count": null,
   "id": "436c8209-778f-4a85-bcc3-0d9f47124393",
   "metadata": {},
   "outputs": [],
   "source": []
  },
  {
   "cell_type": "code",
   "execution_count": null,
   "id": "0d96b345-3250-487a-a20d-748316f42c89",
   "metadata": {},
   "outputs": [],
   "source": []
  },
  {
   "cell_type": "code",
   "execution_count": null,
   "id": "43b400d5-1d31-4a59-9c14-eb55e041e07a",
   "metadata": {},
   "outputs": [],
   "source": []
  },
  {
   "cell_type": "code",
   "execution_count": null,
   "id": "88f29c9c-5cd3-4561-a6ca-d461c79c286c",
   "metadata": {},
   "outputs": [],
   "source": []
  },
  {
   "cell_type": "code",
   "execution_count": null,
   "id": "bb348ed4-df29-45da-a535-086fa11fd712",
   "metadata": {},
   "outputs": [],
   "source": []
  },
  {
   "cell_type": "code",
   "execution_count": null,
   "id": "af8e581a-9182-4d41-a3b9-690f44a34c37",
   "metadata": {},
   "outputs": [],
   "source": []
  },
  {
   "cell_type": "code",
   "execution_count": null,
   "id": "d0f0c188-2672-4427-9f03-712432acb265",
   "metadata": {},
   "outputs": [],
   "source": []
  }
 ],
 "metadata": {
  "kernelspec": {
   "display_name": "Python 3 (ipykernel)",
   "language": "python",
   "name": "python3"
  },
  "language_info": {
   "codemirror_mode": {
    "name": "ipython",
    "version": 3
   },
   "file_extension": ".py",
   "mimetype": "text/x-python",
   "name": "python",
   "nbconvert_exporter": "python",
   "pygments_lexer": "ipython3",
   "version": "3.12.4"
  }
 },
 "nbformat": 4,
 "nbformat_minor": 5
}
